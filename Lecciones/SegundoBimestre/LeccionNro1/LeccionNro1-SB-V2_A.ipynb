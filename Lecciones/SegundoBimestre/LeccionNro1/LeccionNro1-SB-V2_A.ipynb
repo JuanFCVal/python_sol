{
 "cells": [
  {
   "cell_type": "markdown",
   "metadata": {},
   "source": [
    "## PYTHON INTERMEDIO - LECCIÓN NRO. 1 (SEGUNDO BIMESTRE)\n",
    "\n",
    "- Nombre y Apellido: Renato Balcázar\n",
    "- Fecha: 2021/01/12"
   ]
  },
  {
   "cell_type": "markdown",
   "metadata": {},
   "source": [
    "\n",
    "## Problema 1\n",
    "\n",
    "Empleando expresiones regulares escriba un programa que devuelva todas las fechas(dia-mes-año) del siguiente texto: 'Amit 34-3456 12-05-2007, XYZ 56-4532 11-11-2011, ABC 67-8945 12-01-2009'. De las fechas obtenidas utilice compresion de listas para imprimir solo el valor del día. \n",
    "\n",
    "Resultado: ['12', '11', '12']\n",
    "\n",
    "\n"
   ]
  },
  {
   "cell_type": "code",
   "execution_count": 6,
   "metadata": {},
   "outputs": [
    {
     "name": "stdout",
     "output_type": "stream",
     "text": [
      "Dates: \n",
      "['12-05-2007', '11-11-2011', '12-01-2009']\n",
      "\n",
      "Only days: \n",
      "['12', '11', '12']\n"
     ]
    }
   ],
   "source": [
    "import re\n",
    "\n",
    "text = 'Amit 34-3456 12-05-2007, XYZ 56-4532 11-11-2011, ABC 67-8945 12-01-2009'\n",
    "date_expression = re.compile(r'\\d\\d-\\d\\d-\\d\\d\\d\\d')\n",
    "dates = date_expression.findall(text)\n",
    "\n",
    "print('Dates: ')\n",
    "print(dates)\n",
    "\n",
    "only_days = [date[:2] for date in dates]\n",
    "\n",
    "print('\\nOnly days: ')\n",
    "print(only_days)\n",
    "\n"
   ]
  }
 ],
 "metadata": {
  "kernelspec": {
   "display_name": "Python 3",
   "language": "python",
   "name": "python3"
  },
  "language_info": {
   "codemirror_mode": {
    "name": "ipython",
    "version": 3
   },
   "file_extension": ".py",
   "mimetype": "text/x-python",
   "name": "python",
   "nbconvert_exporter": "python",
   "pygments_lexer": "ipython3",
   "version": "3.8.5"
  }
 },
 "nbformat": 4,
 "nbformat_minor": 4
}
