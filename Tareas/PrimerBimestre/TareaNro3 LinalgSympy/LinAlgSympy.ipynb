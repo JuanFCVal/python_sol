{
 "cells": [
  {
   "cell_type": "markdown",
   "metadata": {},
   "source": [
    "# Tarea Nro. 3 - LinAlg + Sympy"
   ]
  },
  {
   "cell_type": "markdown",
   "metadata": {},
   "source": [
    "- Nombre y apellido: Renato Balcázar\n",
    "- Fecha:             01-12-2020"
   ]
  },
  {
   "cell_type": "markdown",
   "metadata": {},
   "source": [
    "### Producto punto"
   ]
  },
  {
   "cell_type": "markdown",
   "metadata": {},
   "source": [
    "1. Use un producto punto y la lista de compras de la tabla 9.4 para determinar su cuenta total en la tienda.\n",
    "\n",
    "\n",
    "<img src=\"./img/Tabla9.4.png\" alt=\"drawing\" width=\"400\"/>\n"
   ]
  },
  {
   "cell_type": "code",
   "execution_count": 3,
   "metadata": {},
   "outputs": [
    {
     "data": {
      "text/plain": [
       "27.65"
      ]
     },
     "execution_count": 3,
     "metadata": {},
     "output_type": "execute_result"
    }
   ],
   "source": [
    "import numpy as np\n",
    "\n",
    "products = np.array([2,1,2,5,1])\n",
    "prices = np.array([3.5, 1.25, 4.25, 1.55, 3.15])\n",
    "\n",
    "result = products.dot(prices)\n",
    "result\n"
   ]
  },
  {
   "cell_type": "markdown",
   "metadata": {},
   "source": [
    "### Multiplicación matricial "
   ]
  },
  {
   "cell_type": "markdown",
   "metadata": {},
   "source": [
    "2. Con un calorímetro de bomba se realizó una serie de experimentos. En cada experimento se usó una cantidad diferente de agua. Calcule la capacidad calorífica total para el calorímetro en cada uno de los experimentos, mediante multiplicación matricial, los datos de la tabla 9.8 y la información acerca de la capacidad calorífica que sigue a la tabla.\n",
    "\n",
    "<img src=\"./img/Tabla9.8_1.png\" alt=\"drawing\" width=\"400\"/>\n",
    "<img src=\"./img/Tabla9.8_2.png\" alt=\"drawing\" width=\"400\"/>"
   ]
  },
  {
   "cell_type": "code",
   "execution_count": 24,
   "metadata": {},
   "outputs": [
    {
     "data": {
      "text/plain": [
       "array([[1108.5 ],\n",
       "       [1104.  ],\n",
       "       [1104.45],\n",
       "       [1103.37],\n",
       "       [1103.73]])"
      ]
     },
     "execution_count": 24,
     "metadata": {},
     "output_type": "execute_result"
    }
   ],
   "source": [
    "propierties = np.array([\n",
    "    [ 110, 250, 10],\n",
    "    [ 100, 250, 10],\n",
    "    [ 101, 250, 10],\n",
    "    [98.6, 250, 10],\n",
    "    [99.4, 250, 10]\n",
    "])\n",
    "\n",
    "capacity_elements = np.array([\n",
    "    [0.45],\n",
    "    [4.20],\n",
    "    [0.90]\n",
    "])\n",
    "\n",
    "res = np.dot(propierties, capacity_elements) \n",
    "res\n"
   ]
  },
  {
   "cell_type": "markdown",
   "metadata": {},
   "source": [
    "### Determinantes e inversos"
   ]
  },
  {
   "cell_type": "markdown",
   "metadata": {},
   "source": [
    "3. Recuerde que no todas las matrices tienen inverso. Una matriz es singular (es decir: no tiene inverso) si su determinante es igual a 0 (es decir, |A| = 0). Use la función determinante para probar si cada una de las siguientes matrices tiene inverso:\n",
    "\n",
    "<img src=\"./img/Matrices9.14.png\" alt=\"drawing\" width=\"400\"/>\n",
    "\n",
    "Si existe un inverso, calcúlelo."
   ]
  },
  {
   "cell_type": "code",
   "execution_count": 23,
   "metadata": {},
   "outputs": [
    {
     "name": "stdout",
     "output_type": "stream",
     "text": [
      "\n",
      "Inversa de A: \n",
      "[[ 0.35714286  0.07142857]\n",
      " [-0.28571429  0.14285714]]\n",
      "\n",
      "B no posee una inversa porque su determinante es 0\n",
      "\n",
      "Inversa de C: \n",
      "[[ 0.5    0.     0.   ]\n",
      " [ 0.625  0.    -0.25 ]\n",
      " [-0.875  0.5    0.25 ]]\n"
     ]
    }
   ],
   "source": [
    "A = np.array([\n",
    "    [2, -1],\n",
    "    [4,  5]\n",
    "])\n",
    "\n",
    "B = np.array([\n",
    "    [4, 2],\n",
    "    [2, 1]\n",
    "])\n",
    "\n",
    "C = np.array([\n",
    "    [ 2,  0,  0],\n",
    "    [ 1,  2,  2],\n",
    "    [ 5, -4,  0]\n",
    "])\n",
    "\n",
    "if (np.linalg.det(A) != 0):\n",
    "    print(\"\\nInversa de A: \")\n",
    "    print(np.linalg.inv(A))\n",
    "else:\n",
    "    print(\"\\nA no posee una inversa porque su determinante es 0\")\n",
    "\n",
    "if (np.linalg.det(B) != 0):\n",
    "    print(\"\\nInversa de B: \")\n",
    "    print(np.linalg.inv(B))\n",
    "else:\n",
    "    print(\"\\nB no posee una inversa porque su determinante es 0\")\n",
    "\n",
    "if (np.linalg.det(C) != 0):\n",
    "    print(\"\\nInversa de C: \")\n",
    "    print(np.linalg.inv(C))\n",
    "else:\n",
    "    print(\"\\nC no posee una inversa porque su determinante es 0\")\n"
   ]
  },
  {
   "cell_type": "markdown",
   "metadata": {},
   "source": [
    "### Resolución de sistemas ecuaciones lineales"
   ]
  },
  {
   "cell_type": "markdown",
   "metadata": {},
   "source": [
    "4. Resuelva el siguiente sistema de ecuaciones \n",
    "\n",
    "<img src=\"./img/SistemaEcuaciones9.19.png\" alt=\"drawing\" width=\"400\"/>"
   ]
  },
  {
   "cell_type": "code",
   "execution_count": 4,
   "metadata": {},
   "outputs": [
    {
     "data": {
      "text/plain": [
       "array([-0.18899493,  2.54589061, -3.28057396, -6.75778176,  1.32124449,\n",
       "        4.31944831,  0.62940585])"
      ]
     },
     "execution_count": 4,
     "metadata": {},
     "output_type": "execute_result"
    }
   ],
   "source": [
    "coef = np.array([\n",
    "    [ 3,  4,  2, -1,  1,  7,  1],\n",
    "    [ 2, -2,  3, -4,  5,  2,  8],\n",
    "    [ 1,  2,  3,  1,  2,  4,  6],\n",
    "    [ 5, 10,  4,  3,  9, -2,  1],\n",
    "    [ 3,  2, -2, -4, -5, -6,  7],\n",
    "    [-2,  9,  1,  3, -3,  5,  1],\n",
    "    [ 1, -2, -8,  4,  2,  4,  5]\n",
    "])\n",
    "results = np.array([\n",
    "    42,\n",
    "    32,\n",
    "    12,\n",
    "    -5,\n",
    "    10,\n",
    "    18,\n",
    "    17\n",
    "])\n",
    "\n",
    "\n",
    "respuesta = np.linalg.solve(coef, results)\n",
    "respuesta\n"
   ]
  },
  {
   "cell_type": "markdown",
   "metadata": {},
   "source": [
    "### Cálculo"
   ]
  },
  {
   "cell_type": "markdown",
   "metadata": {},
   "source": [
    "5. La capacidad calorífica C<sub>p</sub> de un gas se puede modelar con la ecuación empírica\n",
    "\n",
    "$$C_p = a + bT + cT^2+dT^3$$\n",
    "\n",
    "donde a, b, c y d son constantes empíricas y T es la temperatura en grados Kelvin. El cambio en entalpía (una medida de energía) conforme el gas se caliente de T<sub>1</sub> a T<sub>2</sub>  es la integral de esta ecuación con respecto a T:\n",
    "\n",
    "$$\\bigtriangleup h = \\int_{T_{1}}^{T_{2}} C_{p} \\,dT  $$\n",
    "\n",
    "Encuentre el cambio en entalpía del oxígeno gaseoso conforme se calienta de 300 K a 1000 K. Los valores de a, b, c y d para el oxígeno son\n",
    "\n",
    "$$\n",
    "\\begin{equation} \n",
    "\\begin{split}\n",
    "a & = 25.48 \\\\\n",
    "b & = 1.520 x 10^{-2} \\\\\n",
    "c & = -0.7155 x 10^{-5} \\\\\n",
    "d & = 1.312 x 10^{-9}\n",
    "\\end{split}\n",
    "\\end{equation}\n",
    "$$\n"
   ]
  },
  {
   "cell_type": "code",
   "execution_count": 17,
   "metadata": {},
   "outputs": [
    {
     "data": {
      "text/latex": [
       "$\\displaystyle 22756.7382$"
      ],
      "text/plain": [
       "22756.7382000000"
      ]
     },
     "execution_count": 17,
     "metadata": {},
     "output_type": "execute_result"
    }
   ],
   "source": [
    "from sympy import *\n",
    "t = Symbol('t')\n",
    "\n",
    "t_1 = 300\n",
    "t_2 = 1000\n",
    "\n",
    "a = 25.48\n",
    "b = 1.520*(10**(-2))\n",
    "c = -0.7155*(10**(-5))\n",
    "d = 1.312*(10**(-9))\n",
    "\n",
    "\n",
    "capacity = a + b*t + c*(t**2) + d*(t**3)\n",
    "\n",
    "h_variation = integrate(capacity, (t, t_1, t_2))\n",
    "h_variation\n"
   ]
  }
 ],
 "metadata": {
  "kernelspec": {
   "display_name": "Python 3",
   "language": "python",
   "name": "python3"
  },
  "language_info": {
   "codemirror_mode": {
    "name": "ipython",
    "version": 3
   },
   "file_extension": ".py",
   "mimetype": "text/x-python",
   "name": "python",
   "nbconvert_exporter": "python",
   "pygments_lexer": "ipython3",
   "version": "3.6.9"
  }
 },
 "nbformat": 4,
 "nbformat_minor": 4
}
