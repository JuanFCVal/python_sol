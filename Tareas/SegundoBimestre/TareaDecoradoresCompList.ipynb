{
 "cells": [
  {
   "cell_type": "markdown",
   "metadata": {},
   "source": [
    "# Tarea Nro. 2 SB. - DECORADORES, COMPRESIÓN DE LISTAS"
   ]
  },
  {
   "cell_type": "markdown",
   "metadata": {},
   "source": [
    "- Nombre y Apellido: Renato Balcázar\n",
    "- Fecha:             4/01/2020"
   ]
  },
  {
   "cell_type": "markdown",
   "metadata": {},
   "source": [
    "### Decoradores\n",
    "\n"
   ]
  },
  {
   "cell_type": "markdown",
   "metadata": {},
   "source": [
    "#### Problema 1\n",
    "\n",
    "Crear los decoradores para la función impresora de tal forma que se presente signos de * y % en medio del mensaje. \n",
    "\n",
    "```\n",
    "@strella\n",
    "@porcentaje\n",
    "def impresora(msg):\n",
    "    print(msg)\n",
    "```\n",
    "\n",
    "```\n",
    "******************************\n",
    "%%%%%%%%%%%%%%%%%%%%%%%%%%%%%%\n",
    "Hello\n",
    "%%%%%%%%%%%%%%%%%%%%%%%%%%%%%%\n",
    "******************************\n",
    "```\n",
    "\n",
    "Modifique el orden como se llaman los decoradores y explique lo que está sucediendo. "
   ]
  },
  {
   "cell_type": "code",
   "execution_count": 16,
   "metadata": {},
   "outputs": [],
   "source": [
    "def strella(func):\n",
    "    \"\"\"\n",
    "    Prints **\n",
    "    \"\"\"\n",
    "\n",
    "    def wrapper(*args, **kwargs):\n",
    "        print('******************************')\n",
    "        func(*args, **kwargs)\n",
    "        print('******************************')\n",
    "\n",
    "    return wrapper\n",
    "\n",
    "def porcentaje(func):\n",
    "    \"\"\"\n",
    "    Prints ½½\n",
    "    \"\"\"\n",
    "\n",
    "    def wrapper(*args, **kwargs):\n",
    "        print(\"%%%%%%%%%%%%%%%%%%%%%%%%%%%%%%\".format())\n",
    "        func(*args, **kwargs)\n",
    "        print(\"%%%%%%%%%%%%%%%%%%%%%%%%%%%%%%\".format())\n",
    "\n",
    "    return wrapper"
   ]
  },
  {
   "cell_type": "code",
   "execution_count": 13,
   "metadata": {},
   "outputs": [
    {
     "name": "stdout",
     "output_type": "stream",
     "text": [
      "******************************\n",
      "%%%%%%%%%%%%%%%%%%%%%%%%%%%%%%\n",
      "Hello\n",
      "%%%%%%%%%%%%%%%%%%%%%%%%%%%%%%\n",
      "******************************\n"
     ]
    }
   ],
   "source": [
    "@strella\n",
    "@porcentaje\n",
    "def impresora(msg):\n",
    "    print(msg)\n",
    "\n",
    "\n",
    "# Test\n",
    "impresora('Hello')"
   ]
  },
  {
   "cell_type": "code",
   "execution_count": 14,
   "metadata": {},
   "outputs": [
    {
     "name": "stdout",
     "output_type": "stream",
     "text": [
      "%%%%%%%%%%%%%%%%%%%%%%%%%%%%%%\n",
      "******************************\n",
      "Hello\n",
      "******************************\n",
      "%%%%%%%%%%%%%%%%%%%%%%%%%%%%%%\n"
     ]
    }
   ],
   "source": [
    "@porcentaje\n",
    "@strella\n",
    "def impresora(msg):\n",
    "    print(msg)\n",
    "\n",
    "\n",
    "# Test\n",
    "impresora('Hello')\n",
    "\n",
    "# ! Si cambiamos el orden de los decoradores, se llama primero al que está en la parte superior"
   ]
  },
  {
   "cell_type": "markdown",
   "metadata": {},
   "source": [
    "#### Problema 2\n",
    "\n",
    "Crear un decorador que permita mostrar un aviso de que una función será discontinuada en `stderr` cuando invoquemos por primera vez una función que ya no queremos. El objetivo es no modificar la función. "
   ]
  },
  {
   "cell_type": "code",
   "execution_count": 21,
   "metadata": {},
   "outputs": [
    {
     "name": "stdout",
     "output_type": "stream",
     "text": [
      "WARNING: You are calling a deprecated function\n",
      "\n",
      "Working...\n"
     ]
    }
   ],
   "source": [
    "def deprecated(func):\n",
    "    \"\"\"\n",
    "    Add warning that a functions will be deprecated\n",
    "    \"\"\"\n",
    "    def wrapper(*args, **kwargs):\n",
    "        print('WARNING: You are calling a deprecated function\\n')\n",
    "        func(*args, **kwargs)\n",
    "    return wrapper\n",
    "\n",
    "#Test\n",
    "@deprecated\n",
    "def do_something(msg):\n",
    "    print(msg)\n",
    "\n",
    "do_something('Working...')"
   ]
  },
  {
   "cell_type": "markdown",
   "metadata": {},
   "source": [
    "### Compresión de listas"
   ]
  },
  {
   "cell_type": "markdown",
   "metadata": {},
   "source": [
    "#### Problema 3\n",
    "\n",
    "Genere la lista [(1,1), (1,2), (1,3), (1,4), .., (1, n)], para cualquier n dado.\n",
    "Use esta lista para crear todas las fracciones 1.0 / k, para k de 1 a n.\n",
    "Finalmente, use round() para redondear todas las fracciones a dos decimales."
   ]
  },
  {
   "cell_type": "code",
   "execution_count": 31,
   "metadata": {},
   "outputs": [
    {
     "name": "stdout",
     "output_type": "stream",
     "text": [
      "Lista original\n",
      "[[1, 1], [1, 2], [1, 3], [1, 4], [1, 5], [1, 6], [1, 7], [1, 8], [1, 9], [1, 10], [1, 11], [1, 12], [1, 13], [1, 14], [1, 15], [1, 16], [1, 17], [1, 18], [1, 19], [1, 20]]\n"
     ]
    }
   ],
   "source": [
    "original_list = []\n",
    "\n",
    "n = 20\n",
    "\n",
    "for i in range(1, n+1):\n",
    "    original_list.append([1, i])\n",
    "\n",
    "print(\"Lista original\")\n",
    "print(original_list)\n",
    "\n"
   ]
  },
  {
   "cell_type": "code",
   "execution_count": 32,
   "metadata": {},
   "outputs": [
    {
     "name": "stdout",
     "output_type": "stream",
     "text": [
      "[1.0, 0.5, 0.33, 0.25, 0.2, 0.17, 0.14, 0.12, 0.11, 0.1, 0.09, 0.08, 0.08, 0.07, 0.07, 0.06, 0.06, 0.06, 0.05, 0.05]\n"
     ]
    }
   ],
   "source": [
    "new_list = [round(i[0]/i[1], 2) for i in original_list]\n",
    "print(new_list)"
   ]
  },
  {
   "cell_type": "markdown",
   "metadata": {},
   "source": [
    "#### Problema 4\n",
    "Aproximar la función exponencial como\n",
    "$$\n",
    "\\sum_{k=0}^{n}\\frac{x^{k}}{k!}\n",
    "$$\n",
    "\n",
    "Utilice compresión de listas para evaluar esta aproximación para x y n dados."
   ]
  },
  {
   "cell_type": "code",
   "execution_count": 8,
   "metadata": {},
   "outputs": [
    {
     "name": "stdout",
     "output_type": "stream",
     "text": [
      "2980.6778726686925\n"
     ]
    }
   ],
   "source": [
    "# Test values \n",
    "x = 8\n",
    "n = 20\n",
    "\n",
    "from math import factorial\n",
    "\n",
    "elements = [((x**k) / factorial(k)) for k in range(n+1) ]\n",
    "\n",
    "\n",
    "# Get the sum\n",
    "print(sum(elements))"
   ]
  },
  {
   "cell_type": "markdown",
   "metadata": {},
   "source": [
    "#### Problema 5\n",
    "\n",
    "Escriba una lista de comprensión que resuelva la ecuación $$ y = x ^ {2} + 1 $$ Su solución debe imprimir una lista de pares [x, y]; use el dominio x ∈ [−5, 5] y el rango y ∈ [0, 10].\n",
    "\n"
   ]
  },
  {
   "cell_type": "code",
   "execution_count": 37,
   "metadata": {},
   "outputs": [
    {
     "name": "stdout",
     "output_type": "stream",
     "text": [
      "[[-3, 10], [-2, 5], [-1, 2], [0, 1], [1, 2], [2, 5], [3, 10]]\n"
     ]
    }
   ],
   "source": [
    "points = [[x, (x**2 +1)] for x in range(-5, 5) if (x**2 +1) >= 0 and (x**2 +1) <= 10]\n",
    "print(points)"
   ]
  }
 ],
 "metadata": {
  "kernelspec": {
   "display_name": "Python 3",
   "language": "python",
   "name": "python3"
  },
  "language_info": {
   "codemirror_mode": {
    "name": "ipython",
    "version": 3
   },
   "file_extension": ".py",
   "mimetype": "text/x-python",
   "name": "python",
   "nbconvert_exporter": "python",
   "pygments_lexer": "ipython3",
   "version": "3.8.5"
  }
 },
 "nbformat": 4,
 "nbformat_minor": 4
}
